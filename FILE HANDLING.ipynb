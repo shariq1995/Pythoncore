{
 "cells": [
  {
   "cell_type": "markdown",
   "id": "9861a22a",
   "metadata": {},
   "source": [
    "## file handling\n",
    "- file is to store the data\n",
    "file operation\n",
    "- open\n",
    "- read\n",
    "- write\n",
    "- others"
   ]
  },
  {
   "cell_type": "code",
   "execution_count": 1,
   "id": "709e657d",
   "metadata": {},
   "outputs": [
    {
     "data": {
      "text/plain": [
       "<_io.TextIOWrapper name='shariq.txt' mode='w' encoding='cp1252'>"
      ]
     },
     "execution_count": 1,
     "metadata": {},
     "output_type": "execute_result"
    }
   ],
   "source": [
    "f=open(\"shariq.txt\",\"w\")\n",
    "f"
   ]
  },
  {
   "cell_type": "code",
   "execution_count": null,
   "id": "4b39c5e7",
   "metadata": {},
   "outputs": [],
   "source": [
    "f"
   ]
  },
  {
   "cell_type": "code",
   "execution_count": 16,
   "id": "22e4707f",
   "metadata": {},
   "outputs": [
    {
     "data": {
      "text/plain": [
       "<_io.TextIOWrapper name='D:\\\\demo1.txt' mode='r' encoding='cp1252'>"
      ]
     },
     "execution_count": 16,
     "metadata": {},
     "output_type": "execute_result"
    }
   ],
   "source": [
    "#either you give single forward slace(\\)or double backward slace(//)\n",
    "#tell work is tell the file pointer\n",
    "#seek work is move the file pointer\n",
    "# read operation\n",
    "f=open(\"D:\\demo1.txt\")\n",
    "f\n"
   ]
  },
  {
   "cell_type": "code",
   "execution_count": 17,
   "id": "354609af",
   "metadata": {},
   "outputs": [
    {
     "data": {
      "text/plain": [
       "0"
      ]
     },
     "execution_count": 17,
     "metadata": {},
     "output_type": "execute_result"
    }
   ],
   "source": [
    "f.tell()"
   ]
  },
  {
   "cell_type": "code",
   "execution_count": 18,
   "id": "2147660c",
   "metadata": {},
   "outputs": [
    {
     "data": {
      "text/plain": [
       "'hi how are you..!!\\nare you going to america..!!\\nyes i m going..!!'"
      ]
     },
     "execution_count": 18,
     "metadata": {},
     "output_type": "execute_result"
    }
   ],
   "source": [
    "f.read()"
   ]
  },
  {
   "cell_type": "code",
   "execution_count": 19,
   "id": "2e90a502",
   "metadata": {},
   "outputs": [
    {
     "data": {
      "text/plain": [
       "3"
      ]
     },
     "execution_count": 19,
     "metadata": {},
     "output_type": "execute_result"
    }
   ],
   "source": [
    "f.seek(3)#seek work is move the file pointer"
   ]
  },
  {
   "cell_type": "code",
   "execution_count": 20,
   "id": "28a2b89d",
   "metadata": {},
   "outputs": [
    {
     "data": {
      "text/plain": [
       "'how are you..!!\\nare you going to america..!!\\nyes i m going..!!'"
      ]
     },
     "execution_count": 20,
     "metadata": {},
     "output_type": "execute_result"
    }
   ],
   "source": [
    "f.read()"
   ]
  },
  {
   "cell_type": "code",
   "execution_count": 21,
   "id": "df94f888",
   "metadata": {},
   "outputs": [
    {
     "data": {
      "text/plain": [
       "<_io.TextIOWrapper name='D:\\\\demo1.txt' mode='r' encoding='cp1252'>"
      ]
     },
     "execution_count": 21,
     "metadata": {},
     "output_type": "execute_result"
    }
   ],
   "source": [
    "f=open(\"D:\\demo1.txt\")\n",
    "f"
   ]
  },
  {
   "cell_type": "code",
   "execution_count": 22,
   "id": "d50f341c",
   "metadata": {},
   "outputs": [
    {
     "data": {
      "text/plain": [
       "'hi how are'"
      ]
     },
     "execution_count": 22,
     "metadata": {},
     "output_type": "execute_result"
    }
   ],
   "source": [
    "f.read(10)"
   ]
  },
  {
   "cell_type": "code",
   "execution_count": 23,
   "id": "94b89a05",
   "metadata": {},
   "outputs": [
    {
     "data": {
      "text/plain": [
       "10"
      ]
     },
     "execution_count": 23,
     "metadata": {},
     "output_type": "execute_result"
    }
   ],
   "source": [
    "f.tell()"
   ]
  },
  {
   "cell_type": "code",
   "execution_count": 24,
   "id": "f2efbecf",
   "metadata": {},
   "outputs": [
    {
     "data": {
      "text/plain": [
       "' you..!!\\nare you going to america..!!\\nyes i m going..!!'"
      ]
     },
     "execution_count": 24,
     "metadata": {},
     "output_type": "execute_result"
    }
   ],
   "source": [
    "f.read()"
   ]
  },
  {
   "cell_type": "code",
   "execution_count": 25,
   "id": "f25547d4",
   "metadata": {},
   "outputs": [
    {
     "data": {
      "text/plain": [
       "10"
      ]
     },
     "execution_count": 25,
     "metadata": {},
     "output_type": "execute_result"
    }
   ],
   "source": [
    "f.seek(10)"
   ]
  },
  {
   "cell_type": "code",
   "execution_count": 26,
   "id": "aebe18a0",
   "metadata": {},
   "outputs": [
    {
     "data": {
      "text/plain": [
       "' you..!!\\na'"
      ]
     },
     "execution_count": 26,
     "metadata": {},
     "output_type": "execute_result"
    }
   ],
   "source": [
    "f.read(10)"
   ]
  },
  {
   "cell_type": "code",
   "execution_count": 27,
   "id": "8d72db3f",
   "metadata": {},
   "outputs": [],
   "source": [
    "#realine\n",
    "#it gives only first line"
   ]
  },
  {
   "cell_type": "code",
   "execution_count": 2,
   "id": "45a82461",
   "metadata": {},
   "outputs": [
    {
     "data": {
      "text/plain": [
       "<_io.TextIOWrapper name='D:\\\\demo1.txt' mode='r' encoding='cp1252'>"
      ]
     },
     "execution_count": 2,
     "metadata": {},
     "output_type": "execute_result"
    }
   ],
   "source": [
    "f=open(\"D:\\demo1.txt\")\n",
    "f"
   ]
  },
  {
   "cell_type": "code",
   "execution_count": 29,
   "id": "870e27e2",
   "metadata": {},
   "outputs": [
    {
     "data": {
      "text/plain": [
       "'hi how are you..!!\\n'"
      ]
     },
     "execution_count": 29,
     "metadata": {},
     "output_type": "execute_result"
    }
   ],
   "source": [
    "f.readline()"
   ]
  },
  {
   "cell_type": "code",
   "execution_count": 34,
   "id": "5c31435a",
   "metadata": {},
   "outputs": [
    {
     "data": {
      "text/plain": [
       "'ng to america..!!\\n'"
      ]
     },
     "execution_count": 34,
     "metadata": {},
     "output_type": "execute_result"
    }
   ],
   "source": [
    "f.readline()"
   ]
  },
  {
   "cell_type": "code",
   "execution_count": 35,
   "id": "71278179",
   "metadata": {},
   "outputs": [
    {
     "data": {
      "text/plain": [
       "'yes i m going..!!'"
      ]
     },
     "execution_count": 35,
     "metadata": {},
     "output_type": "execute_result"
    }
   ],
   "source": [
    "f.readline()"
   ]
  },
  {
   "cell_type": "code",
   "execution_count": 36,
   "id": "b7febd8f",
   "metadata": {},
   "outputs": [],
   "source": [
    "##readlines\n",
    "## it always comes in list"
   ]
  },
  {
   "cell_type": "code",
   "execution_count": 66,
   "id": "ea0936ab",
   "metadata": {},
   "outputs": [
    {
     "data": {
      "text/plain": [
       "<_io.TextIOWrapper name='D:\\\\demo1.txt' mode='r' encoding='cp1252'>"
      ]
     },
     "execution_count": 66,
     "metadata": {},
     "output_type": "execute_result"
    }
   ],
   "source": [
    "f=open(\"D:\\demo1.txt\")\n",
    "f"
   ]
  },
  {
   "cell_type": "code",
   "execution_count": 67,
   "id": "d8c4166c",
   "metadata": {},
   "outputs": [
    {
     "name": "stdout",
     "output_type": "stream",
     "text": [
      "['hi how are you..!!', 'are you going to america..!!', 'yes i m going..!!']\n"
     ]
    }
   ],
   "source": [
    "l=f.readlines()\n",
    "l1=[]\n",
    "for i in l:\n",
    "    i=i.replace(\"\\n\",\"\")\n",
    "    l1.append(i)\n",
    "print(l1)    \n",
    "\n"
   ]
  },
  {
   "cell_type": "code",
   "execution_count": 68,
   "id": "2dbd920a",
   "metadata": {},
   "outputs": [],
   "source": [
    "## task 1:\n",
    "#remove \\n in l:\n",
    "## task 2: count the frequency of each word in file\n",
    "## task 3: count the frequency of each letter in file"
   ]
  },
  {
   "cell_type": "code",
   "execution_count": 49,
   "id": "918495dc",
   "metadata": {},
   "outputs": [
    {
     "data": {
      "text/plain": [
       "<_io.TextIOWrapper name='D:\\\\demo2.txt' mode='r' encoding='cp1252'>"
      ]
     },
     "execution_count": 49,
     "metadata": {},
     "output_type": "execute_result"
    }
   ],
   "source": [
    "## task 2: count the frequency of each word in file\n",
    "f=open(\"D:\\demo2.txt\")\n",
    "f"
   ]
  },
  {
   "cell_type": "code",
   "execution_count": 50,
   "id": "4fa719c1",
   "metadata": {},
   "outputs": [
    {
     "data": {
      "text/plain": [
       "['hii \\n', 'how are you good good\\n', 'ye i am fine fine\\n']"
      ]
     },
     "execution_count": 50,
     "metadata": {},
     "output_type": "execute_result"
    }
   ],
   "source": [
    "l=f.readlines()\n",
    "l"
   ]
  },
  {
   "cell_type": "code",
   "execution_count": 51,
   "id": "160324e9",
   "metadata": {},
   "outputs": [
    {
     "name": "stdout",
     "output_type": "stream",
     "text": [
      "['hii ', 'how are you good good', 'ye i am fine fine']\n"
     ]
    }
   ],
   "source": [
    "l1=[]\n",
    "for i in l:\n",
    "    i=i.replace(\"\\n\",\"\")\n",
    "    l1.append(i)\n",
    "print(l1)    "
   ]
  },
  {
   "cell_type": "code",
   "execution_count": 52,
   "id": "f14a9272",
   "metadata": {},
   "outputs": [
    {
     "name": "stdout",
     "output_type": "stream",
     "text": [
      "[['hii', ''], ['how', 'are', 'you', 'good', 'good'], ['ye', 'i', 'am', 'fine', 'fine']]\n"
     ]
    }
   ],
   "source": [
    "main=[]\n",
    "for i in l1:\n",
    "    words=[]\n",
    "    words=i.split(\" \")\n",
    "    main.append(words)\n",
    "print(main)    "
   ]
  },
  {
   "cell_type": "code",
   "execution_count": 54,
   "id": "66a30ae7",
   "metadata": {},
   "outputs": [
    {
     "data": {
      "text/plain": [
       "['hii',\n",
       " '',\n",
       " 'how',\n",
       " 'are',\n",
       " 'you',\n",
       " 'good',\n",
       " 'good',\n",
       " 'ye',\n",
       " 'i',\n",
       " 'am',\n",
       " 'fine',\n",
       " 'fine']"
      ]
     },
     "execution_count": 54,
     "metadata": {},
     "output_type": "execute_result"
    }
   ],
   "source": [
    "final=[]\n",
    "for k in main:\n",
    "    for k1 in k:\n",
    "        final.append(k1)\n",
    "final        \n",
    "        \n",
    "    "
   ]
  },
  {
   "cell_type": "code",
   "execution_count": 66,
   "id": "bf778b24",
   "metadata": {},
   "outputs": [
    {
     "data": {
      "text/plain": [
       "Counter({'hii': 1,\n",
       "         '': 1,\n",
       "         'how': 1,\n",
       "         'are': 1,\n",
       "         'you': 1,\n",
       "         'good': 2,\n",
       "         'ye': 1,\n",
       "         'i': 1,\n",
       "         'am': 1,\n",
       "         'fine': 2})"
      ]
     },
     "execution_count": 66,
     "metadata": {},
     "output_type": "execute_result"
    }
   ],
   "source": [
    "from collections import Counter    \n",
    "Counter(final)"
   ]
  },
  {
   "cell_type": "code",
   "execution_count": 73,
   "id": "fcc7c36f",
   "metadata": {},
   "outputs": [
    {
     "name": "stdout",
     "output_type": "stream",
     "text": [
      "HII\n",
      "\n",
      "HOW\n",
      "ARE\n",
      "YOU\n",
      "GOOD\n",
      "GOOD\n",
      "YE\n",
      "I\n",
      "AM\n",
      "FINE\n",
      "FINE\n"
     ]
    }
   ],
   "source": [
    "# convert all the word of the file in upper case\n",
    "for i in final:\n",
    "    print(i.upper())"
   ]
  },
  {
   "cell_type": "markdown",
   "id": "330c8e40",
   "metadata": {},
   "source": [
    "## write mode(w mode)\n",
    "- it works when the file exit then it open ortherwise it create the file"
   ]
  },
  {
   "cell_type": "code",
   "execution_count": 20,
   "id": "a1ff04b6",
   "metadata": {},
   "outputs": [
    {
     "data": {
      "text/plain": [
       "<_io.TextIOWrapper name='demo22.txt' mode='w' encoding='cp1252'>"
      ]
     },
     "execution_count": 20,
     "metadata": {},
     "output_type": "execute_result"
    }
   ],
   "source": [
    "f=open(\"demo22.txt\",\"w\")\n",
    "f"
   ]
  },
  {
   "cell_type": "code",
   "execution_count": 21,
   "id": "874ba81c",
   "metadata": {},
   "outputs": [
    {
     "data": {
      "text/plain": [
       "0"
      ]
     },
     "execution_count": 21,
     "metadata": {},
     "output_type": "execute_result"
    }
   ],
   "source": [
    "f.tell()"
   ]
  },
  {
   "cell_type": "code",
   "execution_count": 23,
   "id": "b7913cee",
   "metadata": {},
   "outputs": [],
   "source": [
    "f.write(\"hello\\nhi how r u\\n\")\n",
    "f.write(\"student\")\n",
    "f.close()"
   ]
  },
  {
   "cell_type": "code",
   "execution_count": 25,
   "id": "33658c61",
   "metadata": {},
   "outputs": [
    {
     "data": {
      "text/plain": [
       "<_io.TextIOWrapper name='demo222.txt' mode='w' encoding='cp1252'>"
      ]
     },
     "execution_count": 25,
     "metadata": {},
     "output_type": "execute_result"
    }
   ],
   "source": [
    "#writelines\n",
    "f=open(\"demo222.txt\",\"w\")\n",
    "f\n"
   ]
  },
  {
   "cell_type": "code",
   "execution_count": 26,
   "id": "ea798ef9",
   "metadata": {},
   "outputs": [],
   "source": [
    "f.writelines([\"hi how are you\\n\",\"students are studying\"])\n",
    "f.close()"
   ]
  },
  {
   "cell_type": "code",
   "execution_count": 27,
   "id": "e2e440c0",
   "metadata": {},
   "outputs": [
    {
     "data": {
      "text/plain": [
       "<_io.TextIOWrapper name='demo222.txt' mode='w' encoding='cp1252'>"
      ]
     },
     "execution_count": 27,
     "metadata": {},
     "output_type": "execute_result"
    }
   ],
   "source": [
    "f=open(\"demo222.txt\",\"w\")\n",
    "f"
   ]
  },
  {
   "cell_type": "code",
   "execution_count": 28,
   "id": "9db05c83",
   "metadata": {},
   "outputs": [],
   "source": [
    "f.write(\"python\\n\")\n",
    "f.write(\"ds\\n\")\n",
    "f.write(\"ba\")\n",
    "f.close()"
   ]
  },
  {
   "cell_type": "code",
   "execution_count": 34,
   "id": "528b8fe0",
   "metadata": {},
   "outputs": [
    {
     "data": {
      "text/plain": [
       "<_io.TextIOWrapper name='demo222.txt' mode='a' encoding='cp1252'>"
      ]
     },
     "execution_count": 34,
     "metadata": {},
     "output_type": "execute_result"
    }
   ],
   "source": [
    "## append mode\n",
    "f=open(\"demo222.txt\",\"a\")\n",
    "f\n"
   ]
  },
  {
   "cell_type": "code",
   "execution_count": 36,
   "id": "20830a28",
   "metadata": {},
   "outputs": [
    {
     "name": "stdout",
     "output_type": "stream",
     "text": [
      "enter the number of subjects3\n",
      "enter the subjectjava\n",
      "enter the subjectfull stack\n",
      "enter the subjecthalf stack\n"
     ]
    }
   ],
   "source": [
    "n=int(input(\"enter the number of subjects\"))\n",
    "for i in range(1,n+1):\n",
    "    f.write(input(\"enter the subject\"))\n",
    "    f.write(\"\\n\")\n",
    "f.close()  \n",
    "\n",
    "    "
   ]
  },
  {
   "cell_type": "code",
   "execution_count": 41,
   "id": "f8978de6",
   "metadata": {},
   "outputs": [
    {
     "data": {
      "text/plain": [
       "<_io.TextIOWrapper name='demo222.txt' mode='a' encoding='cp1252'>"
      ]
     },
     "execution_count": 41,
     "metadata": {},
     "output_type": "execute_result"
    }
   ],
   "source": [
    "f=open(\"demo222.txt\",\"a\")\n",
    "f"
   ]
  },
  {
   "cell_type": "code",
   "execution_count": 38,
   "id": "dce56fa5",
   "metadata": {},
   "outputs": [
    {
     "data": {
      "text/plain": [
       "50"
      ]
     },
     "execution_count": 38,
     "metadata": {},
     "output_type": "execute_result"
    }
   ],
   "source": [
    "f.tell()"
   ]
  },
  {
   "cell_type": "code",
   "execution_count": 39,
   "id": "177bad3c",
   "metadata": {},
   "outputs": [
    {
     "data": {
      "text/plain": [
       "3"
      ]
     },
     "execution_count": 39,
     "metadata": {},
     "output_type": "execute_result"
    }
   ],
   "source": [
    "f.seek(3)"
   ]
  },
  {
   "cell_type": "code",
   "execution_count": 42,
   "id": "698836b2",
   "metadata": {},
   "outputs": [],
   "source": [
    "f.write(\"yaa naa\")\n",
    "f.close()"
   ]
  },
  {
   "cell_type": "code",
   "execution_count": 47,
   "id": "627702e1",
   "metadata": {},
   "outputs": [
    {
     "data": {
      "text/plain": [
       "<_io.TextIOWrapper name='demo222.txt' mode='a+' encoding='cp1252'>"
      ]
     },
     "execution_count": 47,
     "metadata": {},
     "output_type": "execute_result"
    }
   ],
   "source": [
    "# a+ mode\n",
    "f=open(\"demo222.txt\",\"a+\")\n",
    "f"
   ]
  },
  {
   "cell_type": "code",
   "execution_count": 48,
   "id": "9053b745",
   "metadata": {},
   "outputs": [
    {
     "data": {
      "text/plain": [
       "64"
      ]
     },
     "execution_count": 48,
     "metadata": {},
     "output_type": "execute_result"
    }
   ],
   "source": [
    "f.tell()"
   ]
  },
  {
   "cell_type": "code",
   "execution_count": 49,
   "id": "c46e249b",
   "metadata": {},
   "outputs": [
    {
     "data": {
      "text/plain": [
       "''"
      ]
     },
     "execution_count": 49,
     "metadata": {},
     "output_type": "execute_result"
    }
   ],
   "source": [
    "f.read()"
   ]
  },
  {
   "cell_type": "code",
   "execution_count": 50,
   "id": "b1f0c14b",
   "metadata": {},
   "outputs": [
    {
     "data": {
      "text/plain": [
       "3"
      ]
     },
     "execution_count": 50,
     "metadata": {},
     "output_type": "execute_result"
    }
   ],
   "source": [
    "f.seek(3)"
   ]
  },
  {
   "cell_type": "code",
   "execution_count": 51,
   "id": "e816c87b",
   "metadata": {},
   "outputs": [
    {
     "data": {
      "text/plain": [
       "'\\nsi\\nei\\nai\\nbi\\njava\\nfull stack\\nhalf stack\\nyaa yaayaa naa'"
      ]
     },
     "execution_count": 51,
     "metadata": {},
     "output_type": "execute_result"
    }
   ],
   "source": [
    "f.read()"
   ]
  },
  {
   "cell_type": "code",
   "execution_count": 52,
   "id": "7bb3a053",
   "metadata": {},
   "outputs": [
    {
     "data": {
      "text/plain": [
       "64"
      ]
     },
     "execution_count": 52,
     "metadata": {},
     "output_type": "execute_result"
    }
   ],
   "source": [
    "f.tell()"
   ]
  },
  {
   "cell_type": "code",
   "execution_count": 53,
   "id": "ed1a9a64",
   "metadata": {},
   "outputs": [],
   "source": [
    "f.write(\"backend\\n\")\n",
    "f.close()"
   ]
  },
  {
   "cell_type": "code",
   "execution_count": 54,
   "id": "677a6942",
   "metadata": {},
   "outputs": [
    {
     "data": {
      "text/plain": [
       "<_io.TextIOWrapper name='demo222.txt' mode='a' encoding='cp1252'>"
      ]
     },
     "execution_count": 54,
     "metadata": {},
     "output_type": "execute_result"
    }
   ],
   "source": [
    "f=open(\"demo222.txt\",\"a\")\n",
    "f"
   ]
  },
  {
   "cell_type": "code",
   "execution_count": 55,
   "id": "f67dbae8",
   "metadata": {},
   "outputs": [
    {
     "data": {
      "text/plain": [
       "73"
      ]
     },
     "execution_count": 55,
     "metadata": {},
     "output_type": "execute_result"
    }
   ],
   "source": [
    "f.tell()"
   ]
  },
  {
   "cell_type": "code",
   "execution_count": 56,
   "id": "1acd0679",
   "metadata": {},
   "outputs": [
    {
     "data": {
      "text/plain": [
       "5"
      ]
     },
     "execution_count": 56,
     "metadata": {},
     "output_type": "execute_result"
    }
   ],
   "source": [
    "f.seek(5)"
   ]
  },
  {
   "cell_type": "code",
   "execution_count": 57,
   "id": "2e2f00a4",
   "metadata": {},
   "outputs": [],
   "source": [
    "f.write(\"php\\n\")\n",
    "f.close()"
   ]
  },
  {
   "cell_type": "code",
   "execution_count": 58,
   "id": "b8aa09d7",
   "metadata": {},
   "outputs": [
    {
     "data": {
      "text/plain": [
       "<_io.TextIOWrapper name='demo222.txt' mode='r+' encoding='cp1252'>"
      ]
     },
     "execution_count": 58,
     "metadata": {},
     "output_type": "execute_result"
    }
   ],
   "source": [
    "# R+ mode\n",
    "f=open(\"demo222.txt\",\"r+\")\n",
    "f"
   ]
  },
  {
   "cell_type": "code",
   "execution_count": 59,
   "id": "97d8028b",
   "metadata": {},
   "outputs": [
    {
     "data": {
      "text/plain": [
       "0"
      ]
     },
     "execution_count": 59,
     "metadata": {},
     "output_type": "execute_result"
    }
   ],
   "source": [
    "f.tell()"
   ]
  },
  {
   "cell_type": "code",
   "execution_count": 60,
   "id": "138aacb3",
   "metadata": {},
   "outputs": [
    {
     "data": {
      "text/plain": [
       "'ai\\nsi\\nei\\nai\\nbi\\njava\\nfull stack\\nhalf stack\\nyaa yaayaa naabackend\\nphp\\n'"
      ]
     },
     "execution_count": 60,
     "metadata": {},
     "output_type": "execute_result"
    }
   ],
   "source": [
    "f.read()"
   ]
  },
  {
   "cell_type": "code",
   "execution_count": 61,
   "id": "1d47daaa",
   "metadata": {},
   "outputs": [
    {
     "data": {
      "text/plain": [
       "78"
      ]
     },
     "execution_count": 61,
     "metadata": {},
     "output_type": "execute_result"
    }
   ],
   "source": [
    "f.tell()"
   ]
  },
  {
   "cell_type": "code",
   "execution_count": 62,
   "id": "0a37050c",
   "metadata": {},
   "outputs": [
    {
     "data": {
      "text/plain": [
       "10"
      ]
     },
     "execution_count": 62,
     "metadata": {},
     "output_type": "execute_result"
    }
   ],
   "source": [
    "f.seek(10)"
   ]
  },
  {
   "cell_type": "code",
   "execution_count": 63,
   "id": "bf74354e",
   "metadata": {},
   "outputs": [
    {
     "data": {
      "text/plain": [
       "10"
      ]
     },
     "execution_count": 63,
     "metadata": {},
     "output_type": "execute_result"
    }
   ],
   "source": [
    "f.tell()"
   ]
  },
  {
   "cell_type": "code",
   "execution_count": 64,
   "id": "50adb4db",
   "metadata": {},
   "outputs": [],
   "source": [
    "f.write(\"hello\\n\")\n",
    "f.close()"
   ]
  },
  {
   "cell_type": "code",
   "execution_count": 1,
   "id": "c3f0aa76",
   "metadata": {},
   "outputs": [],
   "source": [
    "#wap to add the snacks item in the file given by the user\n",
    "#wap take a food item from the user and check wherther that item is present or not if it is present than display item is \n",
    "#already present if it is not present than add that food item in the file"
   ]
  },
  {
   "cell_type": "code",
   "execution_count": 2,
   "id": "0d6b8795",
   "metadata": {},
   "outputs": [
    {
     "data": {
      "text/plain": [
       "<_io.TextIOWrapper name='snacks.txt' mode='a' encoding='cp1252'>"
      ]
     },
     "execution_count": 2,
     "metadata": {},
     "output_type": "execute_result"
    }
   ],
   "source": [
    "#wap to add the snacks item in the file given by the user.\n",
    "f=open(\"snacks.txt\",\"a\")\n",
    "f"
   ]
  },
  {
   "cell_type": "code",
   "execution_count": null,
   "id": "84366016",
   "metadata": {},
   "outputs": [],
   "source": []
  },
  {
   "cell_type": "code",
   "execution_count": 3,
   "id": "e8ff42a7",
   "metadata": {},
   "outputs": [
    {
     "name": "stdout",
     "output_type": "stream",
     "text": [
      "enter the number of snacks  3\n",
      "enter the snacks  pizza\n",
      "enter the snacks  burger\n",
      "enter the snacks  hotdog\n"
     ]
    }
   ],
   "source": [
    "n=int(input(\"enter the number of snacks  \"))\n",
    "for i in range(1,n+1):\n",
    "    f.write(input(\"enter the snacks  \"))\n",
    "    f.write(\"\\n\")\n",
    "f.close()"
   ]
  },
  {
   "cell_type": "code",
   "execution_count": 13,
   "id": "28921d9b",
   "metadata": {},
   "outputs": [
    {
     "name": "stdout",
     "output_type": "stream",
     "text": [
      "['pizza\\n', 'burger\\n', 'hotdog\\n', 'french fries\\n', 'pani puri\\n', 'chowminchaat\\n', 'chaat\\n', 'chips\\n', 'cold drink\\n', 'juice\\n', 'sweet corn\\n', 'water\\n', 'goo\\n', 'lemon soda\\n']\n",
      "enter the foodice cream\n"
     ]
    }
   ],
   "source": [
    "f=open(\"snacks.txt\",\"r+\")\n",
    "l=f.readlines()\n",
    "print(l)\n",
    " \n",
    "l1=[]\n",
    "for i  in l:\n",
    "    i=i.replace(\"\\n\",\"\")\n",
    "    l1.append(i)\n",
    "l1\n",
    "food= input(\"enter the food\")\n",
    "if food in l1:\n",
    "    print(\"the item is already present\")\n",
    "else:\n",
    "    f.write(food)\n",
    "    f.write(\"\\n\")\n",
    "    f.close()\n"
   ]
  },
  {
   "cell_type": "code",
   "execution_count": 22,
   "id": "93be09af",
   "metadata": {},
   "outputs": [
    {
     "data": {
      "text/plain": [
       "<_io.TextIOWrapper name='fooditems1.txt' mode='w' encoding='cp1252'>"
      ]
     },
     "execution_count": 22,
     "metadata": {},
     "output_type": "execute_result"
    }
   ],
   "source": [
    "#wap to read the corresponding data from two files.\n",
    "f1=open(\"fooditems1.txt\",\"w\")\n",
    "f1\n"
   ]
  },
  {
   "cell_type": "code",
   "execution_count": 23,
   "id": "7a145f03",
   "metadata": {},
   "outputs": [
    {
     "name": "stdout",
     "output_type": "stream",
     "text": [
      "enter the number of food items  3\n",
      "enter the food items  pizza\n",
      "enter the food items  burger\n",
      "enter the food items  chaat\n"
     ]
    }
   ],
   "source": [
    "n1=int(input(\"enter the number of food items  \"))\n",
    "for i in range(1,4):\n",
    "    f1.write(input(\"enter the food items  \"))\n",
    "    f1.write(\"\\n\")\n",
    "f1.close()"
   ]
  },
  {
   "cell_type": "code",
   "execution_count": 24,
   "id": "f109a6f0",
   "metadata": {},
   "outputs": [
    {
     "data": {
      "text/plain": [
       "<_io.TextIOWrapper name='drinkitem2.txt' mode='w' encoding='cp1252'>"
      ]
     },
     "execution_count": 24,
     "metadata": {},
     "output_type": "execute_result"
    }
   ],
   "source": [
    "f2=open(\"drinkitem2.txt\",\"w\")\n",
    "f2\n"
   ]
  },
  {
   "cell_type": "code",
   "execution_count": 25,
   "id": "7694ab41",
   "metadata": {},
   "outputs": [
    {
     "name": "stdout",
     "output_type": "stream",
     "text": [
      "enter the number of drink items  3\n",
      "enter the drink items  cold drink\n",
      "enter the drink items  lemon soda\n",
      "enter the drink items  juice\n"
     ]
    }
   ],
   "source": [
    "n1=int(input(\"enter the number of drink items  \"))\n",
    "for i in range(1,4):\n",
    "    f2.write(input(\"enter the drink items  \"))\n",
    "    f2.write(\"\\n\")\n",
    "f2.close()\n"
   ]
  },
  {
   "cell_type": "code",
   "execution_count": 26,
   "id": "717b4926",
   "metadata": {},
   "outputs": [
    {
     "name": "stdout",
     "output_type": "stream",
     "text": [
      "['pizza\\n', 'burger\\n', 'chaat\\n']\n",
      "['cold drink\\n', 'lemon soda\\n', 'juice\\n']\n"
     ]
    }
   ],
   "source": [
    "f1=open(\"fooditems1.txt\",\"r\")\n",
    "f2=open(\"drinkitem2.txt\",\"r\")\n",
    "l1=f1.readlines()\n",
    "l2=f2.readlines()\n",
    "print(l1)\n",
    "print(l2)\n"
   ]
  },
  {
   "cell_type": "code",
   "execution_count": 27,
   "id": "7bc29ed0",
   "metadata": {},
   "outputs": [
    {
     "data": {
      "text/plain": [
       "['pizza', 'burger', 'chaat']"
      ]
     },
     "execution_count": 27,
     "metadata": {},
     "output_type": "execute_result"
    }
   ],
   "source": [
    "l11=[]\n",
    "for i in l1:\n",
    "    i=i.replace(\"\\n\",\"\")\n",
    "    l11.append(i)\n",
    "l11    "
   ]
  },
  {
   "cell_type": "code",
   "execution_count": 28,
   "id": "b67f816c",
   "metadata": {},
   "outputs": [
    {
     "data": {
      "text/plain": [
       "['cold drink', 'lemon soda', 'juice']"
      ]
     },
     "execution_count": 28,
     "metadata": {},
     "output_type": "execute_result"
    }
   ],
   "source": [
    "l22=[]\n",
    "for i in l2:\n",
    "    i=i.replace(\"\\n\",\"\")\n",
    "    l22.append(i)\n",
    "l22    "
   ]
  },
  {
   "cell_type": "code",
   "execution_count": 29,
   "id": "0bfbba4e",
   "metadata": {},
   "outputs": [
    {
     "data": {
      "text/plain": [
       "[('pizza', 'cold drink'), ('burger', 'lemon soda'), ('chaat', 'juice')]"
      ]
     },
     "execution_count": 29,
     "metadata": {},
     "output_type": "execute_result"
    }
   ],
   "source": [
    "list(zip(l11,l22))\n"
   ]
  },
  {
   "cell_type": "code",
   "execution_count": 30,
   "id": "36edb24c",
   "metadata": {},
   "outputs": [
    {
     "name": "stdout",
     "output_type": "stream",
     "text": [
      "enter the line number2\n",
      "lemon soda\n",
      "\n"
     ]
    }
   ],
   "source": [
    "#wap to read the line of the file enter by user.\n",
    "f1=open(\"drinkitem2.txt\")\n",
    "f1\n",
    "ln=int(input(\"enter the line number\"))\n",
    "l=1\n",
    "for i in f1:\n",
    "    if l==ln:\n",
    "        print(i)\n",
    "    l=l+1\n"
   ]
  },
  {
   "cell_type": "code",
   "execution_count": 63,
   "id": "b1a90f13",
   "metadata": {},
   "outputs": [
    {
     "ename": "FileExistsError",
     "evalue": "[Errno 17] File exists: 'file1.text'",
     "output_type": "error",
     "traceback": [
      "\u001b[1;31m---------------------------------------------------------------------------\u001b[0m",
      "\u001b[1;31mFileExistsError\u001b[0m                           Traceback (most recent call last)",
      "Input \u001b[1;32mIn [63]\u001b[0m, in \u001b[0;36m<cell line: 1>\u001b[1;34m()\u001b[0m\n\u001b[1;32m----> 1\u001b[0m f\u001b[38;5;241m=\u001b[39m\u001b[38;5;28;43mopen\u001b[39;49m\u001b[43m(\u001b[49m\u001b[38;5;124;43m\"\u001b[39;49m\u001b[38;5;124;43mfile1.text\u001b[39;49m\u001b[38;5;124;43m\"\u001b[39;49m\u001b[43m,\u001b[49m\u001b[38;5;124;43m\"\u001b[39;49m\u001b[38;5;124;43mx\u001b[39;49m\u001b[38;5;124;43m\"\u001b[39;49m\u001b[43m)\u001b[49m\n\u001b[0;32m      2\u001b[0m f\n",
      "\u001b[1;31mFileExistsError\u001b[0m: [Errno 17] File exists: 'file1.text'"
     ]
    }
   ],
   "source": [
    "#xmode\n",
    "f=open(\"file1.text\",\"x\")\n",
    "f"
   ]
  },
  {
   "cell_type": "code",
   "execution_count": 64,
   "id": "45f9301c",
   "metadata": {},
   "outputs": [],
   "source": [
    "#wap fetch the food item which is longest in length.\n",
    "#wap write the firstname,lastname,phone no.\n"
   ]
  },
  {
   "cell_type": "code",
   "execution_count": 65,
   "id": "30737949",
   "metadata": {},
   "outputs": [
    {
     "name": "stdout",
     "output_type": "stream",
     "text": [
      "file1.txt  file1.text\n",
      "File Mode:  x\n",
      "Is File Readable:  False\n",
      "Is File Writable:  True\n",
      "Is File Closed :  False\n",
      "Is File Closed :  True\n"
     ]
    }
   ],
   "source": [
    "print(\"file1.txt \",f.name) #xyz\n",
    "print(\"File Mode: \",f.mode)# w\n",
    "print(\"Is File Readable: \",f.readable())\n",
    "print(\"Is File Writable: \",f.writable())\n",
    "print(\"Is File Closed : \",f.closed)\n",
    "f.close()\n",
    "print(\"Is File Closed : \",f.closed)\n"
   ]
  },
  {
   "cell_type": "code",
   "execution_count": 46,
   "id": "83a423a8",
   "metadata": {},
   "outputs": [
    {
     "data": {
      "text/plain": [
       "<_io.TextIOWrapper name='length.txt' mode='w' encoding='cp1252'>"
      ]
     },
     "execution_count": 46,
     "metadata": {},
     "output_type": "execute_result"
    }
   ],
   "source": [
    "f=open(\"length.txt\",\"w\")\n",
    "f\n"
   ]
  },
  {
   "cell_type": "code",
   "execution_count": 47,
   "id": "95b76126",
   "metadata": {},
   "outputs": [
    {
     "name": "stdout",
     "output_type": "stream",
     "text": [
      "enter the number of food items  2\n",
      "enter the food items  pizzaburger\n",
      "enter the food items  chips\n"
     ]
    }
   ],
   "source": [
    "n=int(input(\"enter the number of food items  \"))\n",
    "for i in range(1,n+1):\n",
    "    f.write(input(\"enter the food items  \"))\n",
    "    f.write(\"\\n\")\n",
    "f.close()"
   ]
  },
  {
   "cell_type": "code",
   "execution_count": 48,
   "id": "bd211e16",
   "metadata": {},
   "outputs": [
    {
     "name": "stdout",
     "output_type": "stream",
     "text": [
      "['pizzaburger\\n', 'chips\\n']\n"
     ]
    }
   ],
   "source": [
    "f=open(\"length.txt\", \"r\")\n",
    "l1=f.readlines()\n",
    "print(l1)"
   ]
  },
  {
   "cell_type": "code",
   "execution_count": 49,
   "id": "55292ba6",
   "metadata": {},
   "outputs": [
    {
     "name": "stdout",
     "output_type": "stream",
     "text": [
      "pizzaburger\n",
      "chips\n"
     ]
    }
   ],
   "source": [
    "l2=[]\n",
    "for i in l1:\n",
    "    i=i.replace(\"\\n\",\"\")\n",
    "    print(i)"
   ]
  },
  {
   "cell_type": "code",
   "execution_count": 52,
   "id": "037d8f57",
   "metadata": {},
   "outputs": [
    {
     "data": {
      "text/plain": [
       "'pizzaburger'"
      ]
     },
     "execution_count": 52,
     "metadata": {},
     "output_type": "execute_result"
    }
   ],
   "source": [
    "max(l1).replace(\"\\n\",\"\")"
   ]
  },
  {
   "cell_type": "code",
   "execution_count": null,
   "id": "a63b4e03",
   "metadata": {},
   "outputs": [],
   "source": []
  },
  {
   "cell_type": "code",
   "execution_count": null,
   "id": "073b6279",
   "metadata": {},
   "outputs": [],
   "source": []
  },
  {
   "cell_type": "code",
   "execution_count": null,
   "id": "2a6921d5",
   "metadata": {},
   "outputs": [],
   "source": []
  }
 ],
 "metadata": {
  "kernelspec": {
   "display_name": "Python 3 (ipykernel)",
   "language": "python",
   "name": "python3"
  },
  "language_info": {
   "codemirror_mode": {
    "name": "ipython",
    "version": 3
   },
   "file_extension": ".py",
   "mimetype": "text/x-python",
   "name": "python",
   "nbconvert_exporter": "python",
   "pygments_lexer": "ipython3",
   "version": "3.9.12"
  }
 },
 "nbformat": 4,
 "nbformat_minor": 5
}
